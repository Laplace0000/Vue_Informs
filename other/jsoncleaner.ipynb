{
 "cells": [
  {
   "cell_type": "code",
   "execution_count": 5,
   "metadata": {},
   "outputs": [],
   "source": [
    "import json\n",
    "\n",
    "# File path to the JSON file\n",
    "file_path = '../public/data/user.json'"
   ]
  },
  {
   "cell_type": "code",
   "execution_count": 6,
   "metadata": {},
   "outputs": [],
   "source": [
    "# Function to remove address and company data\n",
    "def sanitize_data(data):\n",
    "    for entry in data:\n",
    "        entry.pop(\"address\", None)  # Remove address key\n",
    "        entry.pop(\"company\", None)  # Remove company key\n",
    "    return data\n"
   ]
  },
  {
   "cell_type": "code",
   "execution_count": 7,
   "metadata": {},
   "outputs": [
    {
     "name": "stdout",
     "output_type": "stream",
     "text": [
      "Data sanitized successfully.\n"
     ]
    }
   ],
   "source": [
    "# Load, sanitize, and save data\n",
    "try:\n",
    "    # Read the JSON data from file\n",
    "    with open(file_path, 'r') as file:\n",
    "        data = json.load(file)  # Load JSON data as Python object (list/dict)\n",
    "\n",
    "    # Sanitize the data\n",
    "    sanitized_data = sanitize_data(data)\n",
    "\n",
    "    # Save the sanitized data back to a JSON file\n",
    "    with open(file_path, 'w') as file:\n",
    "        json.dump(sanitized_data, file, indent=4)\n",
    "\n",
    "    print(\"Data sanitized successfully.\")\n",
    "\n",
    "except Exception as e:\n",
    "    print(f\"An error occurred: {e}\")\n"
   ]
  }
 ],
 "metadata": {
  "kernelspec": {
   "display_name": "Python 3",
   "language": "python",
   "name": "python3"
  },
  "language_info": {
   "codemirror_mode": {
    "name": "ipython",
    "version": 3
   },
   "file_extension": ".py",
   "mimetype": "text/x-python",
   "name": "python",
   "nbconvert_exporter": "python",
   "pygments_lexer": "ipython3",
   "version": "3.12.3"
  }
 },
 "nbformat": 4,
 "nbformat_minor": 2
}
